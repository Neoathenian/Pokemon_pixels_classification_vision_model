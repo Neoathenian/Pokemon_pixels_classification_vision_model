{
 "cells": [
  {
   "cell_type": "code",
   "execution_count": 1,
   "metadata": {},
   "outputs": [],
   "source": [
    "from torch.utils.data import DataLoader\n",
    "from torchvision.datasets import ImageFolder\n",
    "from torchvision import transforms\n",
    "import os\n",
    "import pytorch_lightning as pl\n",
    "import torch\n",
    "\n",
    "from pytorch_lightning.loggers import CSVLogger\n",
    "from pytorch_lightning.loggers import WandbLogger\n",
    "\n",
    "from pytorch_lightning.callbacks import ModelCheckpoint, EarlyStopping\n",
    "from torch.utils.data import WeightedRandomSampler\n",
    "import numpy as np\n",
    "\n",
    "from ResNet_2 import Net,BasicBlock\n"
   ]
  },
  {
   "cell_type": "code",
<<<<<<< HEAD
<<<<<<< HEAD
   "execution_count": 2,
=======
   "execution_count": 7,
>>>>>>> 4c95344 (.)
=======
   "execution_count": 2,
>>>>>>> bc7a90d (just updates to db)
   "metadata": {},
   "outputs": [
    {
     "data": {
      "text/plain": [
       "<All keys matched successfully>"
      ]
     },
<<<<<<< HEAD
<<<<<<< HEAD
     "execution_count": 2,
=======
     "execution_count": 7,
>>>>>>> 4c95344 (.)
=======
     "execution_count": 2,
>>>>>>> bc7a90d (just updates to db)
     "metadata": {},
     "output_type": "execute_result"
    }
   ],
   "source": [
    "model = Net(BasicBlock, [2,2,2,2])\n",
    "checkpoint = torch.load('checkpoints/ResNet_1_17/version_68/best-checkpoint.ckpt')\n",
    "model.load_state_dict(checkpoint['state_dict'])"
   ]
  },
  {
   "cell_type": "code",
<<<<<<< HEAD
<<<<<<< HEAD
   "execution_count": 9,
=======
   "execution_count": 8,
>>>>>>> 4c95344 (.)
=======
   "execution_count": 9,
>>>>>>> bc7a90d (just updates to db)
   "metadata": {},
   "outputs": [],
   "source": [
    "import torch\n",
    "from torchvision import datasets, transforms\n",
    "from PIL import Image\n",
    "import os\n",
    "import shutil\n",
    "\n",
    "model.eval()\n",
    "# Check if CUDA is available and set PyTorch to use GPU or CPU\n",
    "device = torch.device(\"cuda\" if torch.cuda.is_available() else \"cpu\")\n",
    "\n",
    "model.to(device)\n",
    "# Define the transformation\n",
    "transform = transforms.Compose([\n",
    "    transforms.ToTensor(),\n",
    "])\n",
    "\n",
    "# Load the images\n",
    "dataset = datasets.ImageFolder('Data/val', transform=transform)\n",
    "\n",
    "# Create DataLoader\n",
    "dataloader = torch.utils.data.DataLoader(dataset, batch_size=1, shuffle=False)\n",
    "\n",
    "# Iterate over the images\n",
    "for i, (inputs, labels) in enumerate(dataloader):\n",
    "    # Move inputs and labels to the correct device\n",
    "    inputs = inputs.to(device)\n",
    "    labels = labels.to(device)\n",
<<<<<<< HEAD
<<<<<<< HEAD
    "    if os.path.basename(img_path)==\"147.png\":\n",
    "        break\n",
=======
    "\n",
>>>>>>> 4c95344 (.)
=======
    "    if os.path.basename(img_path)==\"147.png\":\n",
    "        break\n",
>>>>>>> bc7a90d (just updates to db)
    "    # Forward pass\n",
    "    outputs = model(inputs)\n",
    "    _, preds = torch.max(outputs, 1)\n",
    "\n",
<<<<<<< HEAD
<<<<<<< HEAD
=======
>>>>>>> bc7a90d (just updates to db)
    "    img_path = dataset.imgs[i][0]  # Get the path of the current image\n",
    "    true_label = dataset.classes[labels]  # Get the true label of the image\n",
    "    pred_label = dataset.classes[preds]  # Get the predicted label of the image\n",
    "\n",
<<<<<<< HEAD
=======
>>>>>>> 4c95344 (.)
=======
>>>>>>> bc7a90d (just updates to db)
    "    # Check if the prediction was correct\n",
    "    if preds != labels:\n",
    "        # If the prediction was incorrect, save the image\n",
    "        img_path = dataset.imgs[i][0]  # Get the path of the current image\n",
    "        img = Image.open(img_path)  # Open the image\n",
<<<<<<< HEAD
<<<<<<< HEAD
    "        \n",
=======
>>>>>>> 4c95344 (.)
=======
    "        \n",
>>>>>>> bc7a90d (just updates to db)
    "        true_label = dataset.classes[labels]  # Get the true label of the image\n",
    "        pred_label = dataset.classes[preds]  # Get the predicted label of the image\n",
    "\n",
    "        # Create the target directory if it doesn't exist\n",
    "        target_dir = f'Evaluation/{true_label}/{pred_label}'\n",
    "        os.makedirs(target_dir, exist_ok=True)\n",
    "                \n",
    "        # Save the image to the target directory\n",
    "        img.save(f'{target_dir}/{os.path.basename(img_path)}')\n",
    "\n",
    "# If you want to move the misclassified images instead of copying them, replace the `img.save()` line with:\n",
    "# shutil.move(img_path, f'{target_dir}/{os.path.basename(img_path)}')\n"
   ]
  },
  {
   "cell_type": "code",
<<<<<<< HEAD
<<<<<<< HEAD
=======
>>>>>>> bc7a90d (just updates to db)
   "execution_count": 13,
   "metadata": {},
   "outputs": [
    {
     "data": {
      "text/plain": [
       "['0_npc',\n",
       " '10_breakable_rock',\n",
       " '11_ground_object',\n",
       " '12_movable_rock',\n",
       " '13_cuttable_tree',\n",
       " '14_trashcan',\n",
       " '15_elevator_button',\n",
       " '16_pokemon',\n",
       " '1_water',\n",
       " '2_wall',\n",
       " '3_door',\n",
       " '4_floor',\n",
       " '5_sign',\n",
       " '6_stairs',\n",
       " '7_tall_grass',\n",
       " '8_PC',\n",
       " '9_direction_arrows']"
      ]
     },
     "execution_count": 13,
     "metadata": {},
     "output_type": "execute_result"
    }
   ],
   "source": [
    "dataset.classes"
   ]
  },
  {
   "cell_type": "code",
   "execution_count": null,
   "metadata": {},
   "outputs": [],
   "source": [
    "model.eval()\n",
    "# Check if CUDA is available and set PyTorch to use GPU or CPU\n",
    "device = torch.device(\"cuda\" if torch.cuda.is_available() else \"cpu\")\n",
    "\n",
    "model.to(device)\n",
    "# Define the transformation\n",
    "transform = transforms.Compose([\n",
    "    transforms.ToTensor(),\n",
    "])\n",
    "\n",
    "# Load the images\n",
    "dataset = datasets.ImageFolder('Data/val', transform=transform)\n",
    "\n",
    "# Create DataLoader\n",
    "dataloader = torch.utils.data.DataLoader(dataset, batch_size=1, shuffle=False)\n",
    "\n",
    "# Iterate over the images\n",
    "for i, (inputs, labels) in enumerate(dataloader):\n",
    "    # Move inputs and labels to the correct device\n",
    "    inputs = inputs.to(device)\n",
    "    labels = labels.to(device)\n",
    "\n",
    "    # Forward pass\n",
    "    outputs = model(inputs)\n",
    "    _, preds = torch.max(outputs, 1)\n"
   ]
  },
  {
   "cell_type": "code",
<<<<<<< HEAD
=======
>>>>>>> 4c95344 (.)
=======
>>>>>>> bc7a90d (just updates to db)
   "execution_count": null,
   "metadata": {},
   "outputs": [],
   "source": []
<<<<<<< HEAD
<<<<<<< HEAD
=======
>>>>>>> bc7a90d (just updates to db)
  },
  {
   "cell_type": "code",
   "execution_count": 8,
   "metadata": {},
   "outputs": [
    {
     "data": {
      "text/plain": [
       "tensor([9], device='cuda:0')"
      ]
     },
     "execution_count": 8,
     "metadata": {},
     "output_type": "execute_result"
    }
   ],
   "source": [
    "_,sol=torch.max(model.to(device)(transform(Image.open(\"147.png\")).to(device).unsqueeze(0)),1)\n",
    "sol"
   ]
  },
  {
   "cell_type": "code",
   "execution_count": 23,
   "metadata": {},
   "outputs": [
    {
     "name": "stdout",
     "output_type": "stream",
     "text": [
      "The predicted class for 147.png is: 9\n"
     ]
    }
   ],
   "source": [
    "import torch\n",
    "from PIL import Image\n",
    "\n",
    "# Ensure the entire provided code is loaded here...\n",
    "\n",
    "# Load the model from the checkpoint\n",
    "checkpoint = torch.load('Vision_model.ckpt')\n",
    "model.load_state_dict(checkpoint['state_dict'])\n",
    "model.eval()  # Set the model to evaluation mode\n",
    "\n",
    "# Load and preprocess the image\n",
    "image_path = '147.png'\n",
    "image = Image.open(image_path)\n",
    "\n",
    "# Use the predict function from the provided code\n",
    "predicted_class = predict(image)\n",
    "\n",
    "print(f\"The predicted class for {image_path} is: {predicted_class}\")\n"
   ]
  },
  {
   "cell_type": "code",
   "execution_count": 22,
   "metadata": {},
   "outputs": [],
   "source": [
    "def predict(image):\n",
    "    \"\"\"Takes an image and returns the class of the image\"\"\"\n",
    "    transform = transforms.Compose([\n",
    "        #transforms.Resize((16, 16)),  # Resize the image to 64x64\n",
    "        transforms.ToTensor(),  # Convert PIL image to tensor\n",
    "    ])  \n",
    "    # 2. Apply the preprocessing function to the input image\n",
    "    image_tensor = transform(image).unsqueeze(0)  # Add batch dimension \n",
    "    device = model.device  # Get the device of the model\n",
    "    image_tensor = image_tensor.to(device)  \n",
    "    # 3. Pass the image through the model to get predictions\n",
    "    with torch.no_grad():\n",
    "        model.eval()  # Set the model to evaluation mode\n",
    "        predictions = model(image_tensor)    \n",
    "    # 4. Interpret the predictions (e.g., get the class with the highest probability)\n",
    "    predicted_class = torch.argmax(predictions, dim=1).item()   \n",
    "    return predicted_class"
   ]
<<<<<<< HEAD
=======
>>>>>>> 4c95344 (.)
=======
>>>>>>> bc7a90d (just updates to db)
  }
 ],
 "metadata": {
  "kernelspec": {
   "display_name": "base",
   "language": "python",
   "name": "python3"
  },
  "language_info": {
   "codemirror_mode": {
    "name": "ipython",
    "version": 3
   },
   "file_extension": ".py",
   "mimetype": "text/x-python",
   "name": "python",
   "nbconvert_exporter": "python",
   "pygments_lexer": "ipython3",
   "version": "3.10.9"
  },
  "orig_nbformat": 4
 },
 "nbformat": 4,
 "nbformat_minor": 2
}
